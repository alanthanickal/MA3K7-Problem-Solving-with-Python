{
 "cells": [
  {
   "cell_type": "code",
   "execution_count": null,
   "id": "2686083c",
   "metadata": {},
   "outputs": [],
   "source": [
    "import numpy as np\n",
    "import random\n",
    "\n",
    "n = 2  #specify size of nxn matrix here\n",
    "\n",
    "matrix = np.full((n, n), 9) \n",
    "# I have initialised a nxn matrix filled with 9's. In this code I (the user) can put 0's in the matrix and the Computer can place 1's. The code calculates the determinant when there are no more 9's in the matrix.\n",
    "determinant_printed = False\n",
    "\n",
    "def calculate_determinant(matrix):\n",
    "    return np.linalg.det(matrix)\n",
    "\n",
    "def check(prompt):\n",
    "    while True:\n",
    "        value = int(input(prompt))\n",
    "        if 0 <= value <= n-1:\n",
    "            return value\n",
    "        else:\n",
    "            print(\"Nope... choose again\")\n",
    "\n",
    "def game():\n",
    "    global determinant_printed\n",
    "    myturn = 0  # 1 = player starts first, 0 = bot starts first\n",
    "\n",
    "    while 9 in matrix.flatten():\n",
    "        if myturn == 1:\n",
    "            user_row = check('Your turn - Enter the row (0-3): ')\n",
    "            user_col = check('Your turn - Enter the column (0-3): ')\n",
    "\n",
    "            if 0 <= user_row <= n-1 and 0 <= user_col <= n-1 and matrix[user_row, user_col] == 9:\n",
    "                matrix[user_row, user_col] = 0\n",
    "                print(\"Your move:\")\n",
    "                print(matrix)\n",
    "            else:\n",
    "                print(\"Invalid position. Please choose an empty position within the valid range.\")\n",
    "        else:\n",
    "            computer_row = random.randint(0, n-1)\n",
    "            computer_col = random.randint(0, n-1)\n",
    "\n",
    "            while matrix[computer_row, computer_col] != 9:\n",
    "                computer_row = random.randint(0, n-1)\n",
    "                computer_col = random.randint(0, n-1)\n",
    "\n",
    "            matrix[computer_row, computer_col] = 1\n",
    "            print(\"Computer's move:\")\n",
    "            print(matrix)\n",
    "\n",
    "        myturn = 1 - myturn  # Switch turns\n",
    "\n",
    "    if not determinant_printed:\n",
    "        determinant = calculate_determinant(matrix)\n",
    "        print(\"\\nFinal matrix:\")\n",
    "        print(matrix)\n",
    "        print(\"\\nDeterminant of the final matrix:\", determinant)\n",
    "        determinant_printed = True\n",
    "\n",
    "game()"
   ]
  },
  {
   "cell_type": "code",
   "execution_count": null,
   "id": "f312b470",
   "metadata": {},
   "outputs": [],
   "source": []
  }
 ],
 "metadata": {
  "kernelspec": {
   "display_name": "Python 3 (ipykernel)",
   "language": "python",
   "name": "python3"
  },
  "language_info": {
   "codemirror_mode": {
    "name": "ipython",
    "version": 3
   },
   "file_extension": ".py",
   "mimetype": "text/x-python",
   "name": "python",
   "nbconvert_exporter": "python",
   "pygments_lexer": "ipython3",
   "version": "3.9.7"
  }
 },
 "nbformat": 4,
 "nbformat_minor": 5
}
