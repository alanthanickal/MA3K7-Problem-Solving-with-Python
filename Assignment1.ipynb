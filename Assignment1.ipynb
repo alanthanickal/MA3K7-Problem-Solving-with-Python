{
 "cells": [
  {
   "cell_type": "code",
   "execution_count": null,
   "id": "38cd1183",
   "metadata": {},
   "outputs": [],
   "source": [
    "import numpy as np"
   ]
  },
  {
   "cell_type": "code",
   "execution_count": null,
   "id": "c5b73262",
   "metadata": {},
   "outputs": [],
   "source": [
    "# First code I wrote to get a feel of the problem.\n",
    "N=500\n",
    "S=np.zeros(N, dtype=int)\n",
    "S[0]=1\n",
    "S[1]=5\n",
    "for i in range(2,N):\n",
    "    S[i]=(S[i-1]+S[i-2]) % 10\n",
    "\n",
    "print(S)"
   ]
  },
  {
   "cell_type": "code",
   "execution_count": null,
   "id": "46a70f0d",
   "metadata": {},
   "outputs": [],
   "source": [
    "# I noticed that the pattern repeated after every 60 numbers, so I started a new row after every 60 digits.\n",
    "N = 500\n",
    "S = np.zeros(N, dtype=int)\n",
    "# The (1,5) sequence\n",
    "S[0] = 1\n",
    "S[1] = 5\n",
    "\n",
    "for i in range(2, N):\n",
    "    S[i] = (S[i-1] + S[i-2]) % 10\n",
    "\n",
    "# Print 60 digits per row\n",
    "for i in range(0, N, 60):\n",
    "    print(\" \".join(map(str, S[i:i+60])))"
   ]
  },
  {
   "cell_type": "code",
   "execution_count": null,
   "id": "1bcfada3",
   "metadata": {},
   "outputs": [],
   "source": [
    "# Same as the previous code, but wanted to try another sequence.\n",
    "N = 500\n",
    "S = np.zeros(N, dtype=int)\n",
    "# The (1,3) sequence\n",
    "S[0] = 1\n",
    "S[1] = 3\n",
    "\n",
    "for i in range(2, N):\n",
    "    S[i] = (S[i-1] + S[i-2]) % 10\n",
    "\n",
    "for i in range(0, N, 60):\n",
    "    print(\" \".join(map(str, S[i:i+60])))"
   ]
  },
  {
   "cell_type": "code",
   "execution_count": null,
   "id": "95ab6625",
   "metadata": {},
   "outputs": [],
   "source": [
    "N = 500\n",
    "S = np.zeros(N, dtype=int)\n",
    "# The (2,6) sequence\n",
    "S[0] = 2\n",
    "S[1] = 6\n",
    "\n",
    "for i in range(2, N):\n",
    "    S[i] = (S[i-1] + S[i-2]) % 10\n",
    "\n",
    "for i in range(0, N, 60):\n",
    "    print(\" \".join(map(str, S[i:i+60])))"
   ]
  },
  {
   "cell_type": "code",
   "execution_count": null,
   "id": "b8d0b47f",
   "metadata": {},
   "outputs": [],
   "source": [
    "# Here I realised the pattern repeats at most after 101 steps, so I reduced N\n",
    "# Now, I am trying to find how many different bracelets there are\n",
    "# I printed all the number pairs that could be found in the (1,5) sequence\n",
    "\n",
    "N = 101\n",
    "S = np.zeros(N, dtype=int)\n",
    "S[0] = 1\n",
    "S[1] = 5\n",
    "\n",
    "# Initialised a list to store the pairs\n",
    "fib_1 = []\n",
    "\n",
    "for i in range(2, N):\n",
    "    S[i] = (S[i-1] + S[i-2]) % 10\n",
    "    current_pair = (S[i-1], S[i])\n",
    "    fib_1.append(current_pair)\n",
    "\n",
    "    # Check for repetition\n",
    "    if current_pair == (1, 5):\n",
    "        break\n",
    "\n",
    "# Print the pairs until repetition\n",
    "print(\" \".join(map(lambda pair: f\"{pair[0]}{pair[1]}\", fib_1)))"
   ]
  },
  {
   "cell_type": "code",
   "execution_count": null,
   "id": "3e895185",
   "metadata": {},
   "outputs": [],
   "source": [
    "# To count the number of bracelets needed, I used the following method: I printed the numbers from 0 to 99 (inclusive) and from that list, I removed the number pairs that occur in (1,5). I looked at the numbers that remained and started a Fibonacci mod 10 chain with the first number appearing on that chain and repeated this process until I was left with the empty set. The number of iterations needed tells us how many bracelets there are, up to isomorphism. \n",
    "all_numbers = set(range(100))\n",
    "output1 = {int(f\"{pair[0]}{pair[1]}\") for pair in fib_1}\n",
    "\n",
    "missing_numbers = all_numbers - output1\n",
    "\n",
    "print(\" \".join(map(str, sorted(missing_numbers))))"
   ]
  },
  {
   "cell_type": "code",
   "execution_count": null,
   "id": "f16d23c3",
   "metadata": {},
   "outputs": [],
   "source": [
    "# Take any random number on this list (say 1 - i.e., 01) and perform the same code with\n",
    "# The (0,1) sequence and find the sequence of number pairs again\n",
    "\n",
    "N = 101\n",
    "T = np.zeros(N, dtype=int)\n",
    "T[0] = 0\n",
    "T[1] = 2\n",
    "\n",
    "# Initialise a list to store the pairs\n",
    "fib_2 = []\n",
    "\n",
    "for i in range(2, N):\n",
    "    T[i] = (T[i-1] + T[i-2]) % 10\n",
    "    current_pair2 = (T[i-1], T[i])\n",
    "    fib_2.append(current_pair2)\n",
    "\n",
    "    # Check for repetition\n",
    "    if current_pair2 == (0, 2):\n",
    "        break\n",
    "\n",
    "# Print the pairs until repetition\n",
    "#print(\" \".join(map(lambda pair: f\"{pair[0]}{pair[1]}\", fib_2)))\n",
    "\n",
    "all_numbers = set(range(100))\n",
    "output2 = {int(f\"{pair[0]}{pair[1]}\") for pair in fib_2}\n",
    "\n",
    "missing_numbers2 = missing_numbers - output2\n",
    "\n",
    "print(\" \".join(map(str, sorted(missing_numbers2))))"
   ]
  },
  {
   "cell_type": "code",
   "execution_count": null,
   "id": "a4b8d64a",
   "metadata": {},
   "outputs": [],
   "source": [
    "# Repeating this process\n",
    "\n",
    "N = 101\n",
    "T = np.zeros(N, dtype=int)\n",
    "T[0] = 0\n",
    "T[1] = 5\n",
    "\n",
    "fib_2 = []\n",
    "\n",
    "for i in range(2, N):\n",
    "    T[i] = (T[i-1] + T[i-2]) % 10\n",
    "    current_pair2 = (T[i-1], T[i])\n",
    "    fib_2.append(current_pair2)\n",
    "\n",
    "    \n",
    "    if current_pair2 == (0, 5):\n",
    "        break\n",
    "\n",
    "#print(\" \".join(map(lambda pair: f\"{pair[0]}{pair[1]}\", fib_2)))\n",
    "\n",
    "output3 = {int(f\"{pair[0]}{pair[1]}\") for pair in fib_2}\n",
    "\n",
    "missing_numbers3 = missing_numbers2 - output3\n",
    "\n",
    "print(\" \".join(map(str, sorted(missing_numbers3))))"
   ]
  },
  {
   "cell_type": "code",
   "execution_count": null,
   "id": "c1c2ec1b",
   "metadata": {},
   "outputs": [],
   "source": [
    "N = 101\n",
    "T = np.zeros(N, dtype=int)\n",
    "T[0] = 1\n",
    "T[1] = 3\n",
    "\n",
    "fib_2 = []\n",
    "\n",
    "for i in range(2, N):\n",
    "    T[i] = (T[i-1] + T[i-2]) % 10\n",
    "    current_pair2 = (T[i-1], T[i])\n",
    "    fib_2.append(current_pair2)\n",
    "\n",
    "    if current_pair2 == (1, 3):\n",
    "        break\n",
    "\n",
    "#print(\" \".join(map(lambda pair: f\"{pair[0]}{pair[1]}\", fib_2)))\n",
    "\n",
    "output4 = {int(f\"{pair[0]}{pair[1]}\") for pair in fib_2}\n",
    "\n",
    "missing_numbers4 = missing_numbers3 - output4\n",
    "\n",
    "print(\" \".join(map(str, sorted(missing_numbers4))))"
   ]
  },
  {
   "cell_type": "code",
   "execution_count": null,
   "id": "b890f891",
   "metadata": {},
   "outputs": [],
   "source": [
    "N = 101\n",
    "T = np.zeros(N, dtype=int)\n",
    "T[0] = 2\n",
    "T[1] = 6\n",
    "\n",
    "fib_2 = []\n",
    "\n",
    "for i in range(2, N):\n",
    "    T[i] = (T[i-1] + T[i-2]) % 10\n",
    "    current_pair2 = (T[i-1], T[i])\n",
    "    fib_2.append(current_pair2)\n",
    "\n",
    "    # Check for repetition\n",
    "    if current_pair2 == (2, 6):\n",
    "        break\n",
    "\n",
    "#print(\" \".join(map(lambda pair: f\"{pair[0]}{pair[1]}\", fib_2)))\n",
    "\n",
    "output5 = {int(f\"{pair[0]}{pair[1]}\") for pair in fib_2}\n",
    "\n",
    "missing_numbers5 = missing_numbers4 - output5\n",
    "\n",
    "print(\" \".join(map(str, sorted(missing_numbers5))))"
   ]
  },
  {
   "cell_type": "code",
   "execution_count": null,
   "id": "6efea74f",
   "metadata": {},
   "outputs": [],
   "source": [
    "# Now we're left with 0. Upto now, we've ran this algorithm 5 times, so we have 5 bracelets. Including the (0,0) bracelet, we have 6 bracelets."
   ]
  }
 ],
 "metadata": {
  "kernelspec": {
   "display_name": "Python 3 (ipykernel)",
   "language": "python",
   "name": "python3"
  },
  "language_info": {
   "codemirror_mode": {
    "name": "ipython",
    "version": 3
   },
   "file_extension": ".py",
   "mimetype": "text/x-python",
   "name": "python",
   "nbconvert_exporter": "python",
   "pygments_lexer": "ipython3",
   "version": "3.9.7"
  }
 },
 "nbformat": 4,
 "nbformat_minor": 5
}
