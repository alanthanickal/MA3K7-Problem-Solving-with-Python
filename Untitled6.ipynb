{
 "cells": [
  {
   "cell_type": "code",
   "execution_count": null,
   "id": "c0d9e784",
   "metadata": {},
   "outputs": [],
   "source": [
    "import sympy as sp\n",
    "\n",
    "m, x, y, k = sp.symbols('m x y k')\n",
    "\n",
    "M = sp.solve(m**2 - 0.5 * m**1 - 0.5, m)\n",
    "\n",
    "A = sp.Matrix([[1, 1], [M[0], M[1]], [M[0]**2, M[1]**2]])\n",
    "b = sp.Matrix([0, 1])\n",
    "C, = sp.linsolve((A, b), x, y)\n",
    "\n",
    "def an(n):\n",
    "    return sum(C[i] * M[i]**n for i in range(2))\n",
    "\n",
    "an(k)"
   ]
  },
  {
   "cell_type": "code",
   "execution_count": null,
   "id": "197eb4f5",
   "metadata": {},
   "outputs": [],
   "source": [
    "an(25)"
   ]
  },
  {
   "cell_type": "code",
   "execution_count": null,
   "id": "f362defa",
   "metadata": {},
   "outputs": [],
   "source": [
    "# Print values of an(n) for n from 0 to 10\n",
    "for n in range(16):\n",
    "    print(f\"an({n}) =\", an(n))"
   ]
  },
  {
   "cell_type": "code",
   "execution_count": null,
   "id": "2982ee75",
   "metadata": {},
   "outputs": [],
   "source": [
    "import numpy as np\n",
    "import matplotlib.pyplot as plt\n",
    "\n",
    "A = [0, 1]  # Initial conditions\n",
    "for i in range(2, 40):\n",
    "    a = 0.5 * A[i-1] + 0.5 * A[i-2]\n",
    "    A.append(a)\n",
    "\n",
    "plt.plot(range(40), A, marker='o')\n",
    "plt.xlabel('n')\n",
    "plt.ylabel('p(n)')\n",
    "plt.title('Probability of landing on step n')\n",
    "plt.grid(True)\n",
    "plt.xlim(0, 40)\n",
    "plt.ylim(0, 1)\n",
    "plt.show()"
   ]
  },
  {
   "cell_type": "code",
   "execution_count": null,
   "id": "053db172",
   "metadata": {},
   "outputs": [],
   "source": [
    "import numpy as np\n",
    "import matplotlib.pyplot as plt\n",
    "\n",
    "def f(x, n):\n",
    "    return (1 - (-x)**n) / (x + 1)\n",
    "\n",
    "x_values = np.linspace(0, 1, 400)\n",
    "\n",
    "n_values = range(1, 26, 2)\n",
    "\n",
    "for n in n_values:\n",
    "    y_values = f(x_values, n)\n",
    "    plt.plot(x_values, y_values, label=f'n = {n}')\n",
    "\n",
    "plt.xlabel('p')\n",
    "plt.ylabel('p(n)')\n",
    "plt.title('Graph of odd n against p(n)')\n",
    "plt.legend()\n",
    "plt.grid(True)\n",
    "plt.show()"
   ]
  },
  {
   "cell_type": "code",
   "execution_count": null,
   "id": "c2652d79",
   "metadata": {},
   "outputs": [],
   "source": [
    "import numpy as np\n",
    "import matplotlib.pyplot as plt\n",
    "\n",
    "def f(x, n):\n",
    "    return (1 - (-x)**n) / (x + 1)\n",
    "\n",
    "x_values = np.linspace(0, 1, 400)\n",
    "\n",
    "n_values = range(0, 27, 2)\n",
    "\n",
    "for n in n_values:\n",
    "    y_values = f(x_values, n)\n",
    "    plt.plot(x_values, y_values, label=f'n = {n}')\n",
    "\n",
    "plt.xlabel('p')\n",
    "plt.ylabel('p(n)')\n",
    "plt.title('Graph of even n against p(n)')\n",
    "plt.legend()\n",
    "plt.grid(True)\n",
    "plt.show()"
   ]
  },
  {
   "cell_type": "code",
   "execution_count": null,
   "id": "90f78050",
   "metadata": {},
   "outputs": [],
   "source": []
  }
 ],
 "metadata": {
  "kernelspec": {
   "display_name": "Python 3 (ipykernel)",
   "language": "python",
   "name": "python3"
  },
  "language_info": {
   "codemirror_mode": {
    "name": "ipython",
    "version": 3
   },
   "file_extension": ".py",
   "mimetype": "text/x-python",
   "name": "python",
   "nbconvert_exporter": "python",
   "pygments_lexer": "ipython3",
   "version": "3.9.7"
  }
 },
 "nbformat": 4,
 "nbformat_minor": 5
}
